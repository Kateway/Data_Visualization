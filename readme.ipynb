{
 "cells": [
  {
   "cell_type": "markdown",
   "metadata": {},
   "source": [
    "# Titanic Survival Status Visulization\n",
    "\n",
    "## Introduction\n",
    "\n",
    "The objective of this project is to show the survival status differences across different categories of the titanic data, so that readers can get a clear view to compare it.\n",
    "\n",
    "## Chart Selection\n",
    "A bar chart is plotted to show the differences of survival status across cabin class and gender.  It is easy for comparison and understanding.  Stacked bar chart is used after incorporating feedbacks.\n",
    "\n",
    "A column called \"Count\" was created for plotting.  The titanic dataset is a tiny dataset, therefore, no cleaning is needed.\n",
    "\n",
    "## Visual Encoding\n",
    "x axis: Cabin class and passenger gender\n",
    "y axis: count of passengers\n",
    "color hue: survived and perished\n",
    "\n",
    "## Tool Selection\n",
    "dimple.js is selected to implement the visual encoding.  It is easy to use and creates very nice charts.\n",
    "\n",
    "## Feedbacks\n",
    "Initially, the bar chart only shows the different survival rates among gender.  I got several feedbacks to improve it.\n",
    "1. Add class type to the category.\n",
    "2. Add both survived and perished bars (use stacked bar charts)\n",
    "3. Add legend\n",
    "\n",
    "## Resources\n",
    "1. Udacity data visulization class and forum\n",
    "2. dimple.js documentation\n",
    "3. Titanic dataset on Kaggle https://www.kaggle.com/c/titanic"
   ]
  },
  {
   "cell_type": "code",
   "execution_count": null,
   "metadata": {
    "collapsed": true
   },
   "outputs": [],
   "source": []
  }
 ],
 "metadata": {
  "anaconda-cloud": {},
  "kernelspec": {
   "display_name": "Python 3",
   "language": "python",
   "name": "python3"
  },
  "language_info": {
   "codemirror_mode": {
    "name": "ipython",
    "version": 3
   },
   "file_extension": ".py",
   "mimetype": "text/x-python",
   "name": "python",
   "nbconvert_exporter": "python",
   "pygments_lexer": "ipython3",
   "version": "3.6.0"
  }
 },
 "nbformat": 4,
 "nbformat_minor": 0
}
